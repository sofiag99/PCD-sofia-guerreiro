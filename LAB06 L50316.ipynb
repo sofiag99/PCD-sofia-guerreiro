{
 "cells": [
  {
   "cell_type": "code",
   "execution_count": 1,
   "metadata": {},
   "outputs": [],
   "source": [
    "#calculate NPV. \n",
    "#The rate is a float and the cash flows and investment are in a list."
   ]
  },
  {
   "cell_type": "code",
   "execution_count": 2,
   "metadata": {},
   "outputs": [
    {
     "data": {
      "text/plain": [
       "5"
      ]
     },
     "execution_count": 2,
     "metadata": {},
     "output_type": "execute_result"
    }
   ],
   "source": [
    "CfAndInv=[-1000,100,100,100,100]\n",
    "len(CfAndInv)"
   ]
  },
  {
   "cell_type": "code",
   "execution_count": 3,
   "metadata": {},
   "outputs": [],
   "source": [
    "#NPV = C / ((1+r)**t)\n",
    "\n",
    "#NPV=C1/((1+r)**1)+C2/((1+r)**2)+C3/((1+r)**3)+C4/((1+r)**4)+C0/((1+r)**0)"
   ]
  },
  {
   "cell_type": "code",
   "execution_count": 4,
   "metadata": {},
   "outputs": [],
   "source": [
    "    #print(CfAndInv[t]/(1+rate)**t)"
   ]
  },
  {
   "cell_type": "code",
   "execution_count": 5,
   "metadata": {},
   "outputs": [
    {
     "data": {
      "text/plain": [
       "-683.0134553650707"
      ]
     },
     "execution_count": 5,
     "metadata": {},
     "output_type": "execute_result"
    }
   ],
   "source": [
    "rate=0.1\n",
    "CfAndInv=[-1000,100,100,100,100]\n",
    "\n",
    "NPV=0\n",
    "\n",
    "for t in range (len(CfAndInv)):\n",
    "    NPV=NPV+CfAndInv[t]/(1+rate)**t #igual a NPV += CfAndInv[t]/(1+rate)**t\n",
    "    \n",
    "NPV"
   ]
  },
  {
   "cell_type": "code",
   "execution_count": 6,
   "metadata": {},
   "outputs": [],
   "source": [
    "#create a function called NPV to calculate NPV"
   ]
  },
  {
   "cell_type": "code",
   "execution_count": 7,
   "metadata": {},
   "outputs": [
    {
     "data": {
      "text/plain": [
       "-683.0134553650707"
      ]
     },
     "execution_count": 7,
     "metadata": {},
     "output_type": "execute_result"
    }
   ],
   "source": [
    "def funcao_NPV(tx,cashflows):\n",
    "    total=0.0\n",
    "    for i, cashflow in enumerate(cashflows):\n",
    "        total += cashflow/(1+tx)**i\n",
    "    return total\n",
    "\n",
    "rate=0.1\n",
    "CfAndInv=[-1000,100,100,100,100]\n",
    "funcao_NPV(rate,CfAndInv)"
   ]
  },
  {
   "cell_type": "code",
   "execution_count": 8,
   "metadata": {},
   "outputs": [],
   "source": [
    "#create a function to calcule IRR. In order to calculate IRR you may aproximate the follwoing\n",
    "#expression: rate= rate*(1-NPV(CFList, rate)/invest)"
   ]
  },
  {
   "cell_type": "code",
   "execution_count": 11,
   "metadata": {},
   "outputs": [
    {
     "data": {
      "text/plain": [
       "0.12589832496244294"
      ]
     },
     "execution_count": 11,
     "metadata": {},
     "output_type": "execute_result"
    }
   ],
   "source": [
    "def IRR(CfAndInv):\n",
    "    rate=1\n",
    "    iterar=100000\n",
    "    invest=CfAndInv[0]\n",
    "    for i in range(1,iterar):\n",
    "        rate= rate*(1-NPV(rate, CfAndInv)/invest)\n",
    "    return rate\n",
    "\n",
    "CfAndInv=[-300,100,100,100,100]\n",
    "\n",
    "IRR(CfAndInv)"
   ]
  },
  {
   "cell_type": "code",
   "execution_count": 13,
   "metadata": {},
   "outputs": [],
   "source": [
    "#create a function for payback period"
   ]
  },
  {
   "cell_type": "code",
   "execution_count": 14,
   "metadata": {},
   "outputs": [
    {
     "data": {
      "text/plain": [
       "3"
      ]
     },
     "execution_count": 14,
     "metadata": {},
     "output_type": "execute_result"
    }
   ],
   "source": [
    "CfAndInv=[-300,100,100,100,100]\n",
    "\n",
    "i=0\n",
    "soma=0\n",
    "inv=-CfAndInv[0]\n",
    "while (soma<inv):\n",
    "    i+=1\n",
    "    soma+=CfAndInv[i]\n",
    "i"
   ]
  },
  {
   "cell_type": "code",
   "execution_count": 15,
   "metadata": {},
   "outputs": [],
   "source": [
    "#ou"
   ]
  },
  {
   "cell_type": "code",
   "execution_count": 16,
   "metadata": {},
   "outputs": [
    {
     "data": {
      "text/plain": [
       "3"
      ]
     },
     "execution_count": 16,
     "metadata": {},
     "output_type": "execute_result"
    }
   ],
   "source": [
    "def pbp (CfAndInv):\n",
    "    i=0\n",
    "    soma=0\n",
    "    inv=-CfAndInv[0]\n",
    "    while (soma<inv):\n",
    "        i+=1\n",
    "        soma+=CfAndInv[i]\n",
    "    return i\n",
    "\n",
    "CfAndInv=[-250,100,100,100]\n",
    "\n",
    "pbp(CfAndInv)"
   ]
  },
  {
   "cell_type": "code",
   "execution_count": null,
   "metadata": {},
   "outputs": [],
   "source": []
  }
 ],
 "metadata": {
  "kernelspec": {
   "display_name": "Python 3",
   "language": "python",
   "name": "python3"
  },
  "language_info": {
   "codemirror_mode": {
    "name": "ipython",
    "version": 3
   },
   "file_extension": ".py",
   "mimetype": "text/x-python",
   "name": "python",
   "nbconvert_exporter": "python",
   "pygments_lexer": "ipython3",
   "version": "3.8.3"
  }
 },
 "nbformat": 4,
 "nbformat_minor": 4
}
