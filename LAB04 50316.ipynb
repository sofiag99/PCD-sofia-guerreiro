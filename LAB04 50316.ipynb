{
 "cells": [
  {
   "cell_type": "code",
   "execution_count": 1,
   "metadata": {},
   "outputs": [],
   "source": [
    "#1) Ask the user to insert his name and age. Then, calculate his birth year."
   ]
  },
  {
   "cell_type": "code",
   "execution_count": 2,
   "metadata": {},
   "outputs": [
    {
     "name": "stdout",
     "output_type": "stream",
     "text": [
      "Please insert your name: Sofia\n"
     ]
    }
   ],
   "source": [
    "name=input(\"Please insert your name: \")"
   ]
  },
  {
   "cell_type": "code",
   "execution_count": 3,
   "metadata": {},
   "outputs": [
    {
     "name": "stdout",
     "output_type": "stream",
     "text": [
      "Please insert you age: 21\n"
     ]
    }
   ],
   "source": [
    "age=input(\"Please insert you age: \")"
   ]
  },
  {
   "cell_type": "code",
   "execution_count": 4,
   "metadata": {},
   "outputs": [
    {
     "data": {
      "text/plain": [
       "1999"
      ]
     },
     "execution_count": 4,
     "metadata": {},
     "output_type": "execute_result"
    }
   ],
   "source": [
    "from datetime import date\n",
    "today=date.today()\n",
    "today.year-int(age)"
   ]
  },
  {
   "cell_type": "code",
   "execution_count": 5,
   "metadata": {},
   "outputs": [],
   "source": [
    "#2) Ask the user to insert a text. The program will always answer \"yes\".\n",
    "# The conversation will be closed when the user says \"bye\"."
   ]
  },
  {
   "cell_type": "code",
   "execution_count": 6,
   "metadata": {},
   "outputs": [
    {
     "name": "stdout",
     "output_type": "stream",
     "text": [
      "Please insert a text: Olá!\n"
     ]
    }
   ],
   "source": [
    "text=str(input(\"Please insert a text: \"))"
   ]
  },
  {
   "cell_type": "code",
   "execution_count": 7,
   "metadata": {},
   "outputs": [
    {
     "name": "stdout",
     "output_type": "stream",
     "text": [
      "Please insert a text: Olá!\n",
      "yes\n",
      "Please insert a text: Tudo bem?\n",
      "yes\n",
      "Please insert a text: bye\n"
     ]
    }
   ],
   "source": [
    "text=\"\"\n",
    "while text != \"bye\" : \n",
    "    text=str(input(\"Please insert a text: \"))\n",
    "    if text != \"bye\" :\n",
    "        print(\"yes\")"
   ]
  },
  {
   "cell_type": "code",
   "execution_count": 8,
   "metadata": {},
   "outputs": [],
   "source": [
    "#3) Create a function for a greeting"
   ]
  },
  {
   "cell_type": "code",
   "execution_count": 1,
   "metadata": {},
   "outputs": [],
   "source": [
    "def greet ():\n",
    "    print(\"Hello!\")"
   ]
  },
  {
   "cell_type": "code",
   "execution_count": 3,
   "metadata": {},
   "outputs": [
    {
     "name": "stdout",
     "output_type": "stream",
     "text": [
      "Hello!\n"
     ]
    }
   ],
   "source": [
    "greet()"
   ]
  },
  {
   "cell_type": "code",
   "execution_count": 4,
   "metadata": {},
   "outputs": [],
   "source": [
    "#4) Call greeting function at the beginning of the conversation."
   ]
  },
  {
   "cell_type": "code",
   "execution_count": 7,
   "metadata": {},
   "outputs": [
    {
     "name": "stdout",
     "output_type": "stream",
     "text": [
      "Hello!\n",
      "Write a message: ola!\n",
      "yes\n",
      "Write a message: tudo bem?\n",
      "yes\n",
      "Write a message: bye\n"
     ]
    }
   ],
   "source": [
    "greet()\n",
    "msg=''\n",
    "while msg != 'bye':\n",
    "    msg=input(\"Write a message: \")\n",
    "    if msg != 'bye' :\n",
    "        print(\"yes\")"
   ]
  },
  {
   "cell_type": "code",
   "execution_count": 8,
   "metadata": {},
   "outputs": [],
   "source": [
    "#5) Improve your chatbot"
   ]
  },
  {
   "cell_type": "code",
   "execution_count": 9,
   "metadata": {},
   "outputs": [],
   "source": [
    "#EXEMPLO 1"
   ]
  },
  {
   "cell_type": "code",
   "execution_count": 1,
   "metadata": {},
   "outputs": [
    {
     "name": "stdout",
     "output_type": "stream",
     "text": [
      "Insert text: ola\n",
      "Answer: olá\n",
      "Insert text: tudo bem?\n",
      "Answer: sim e contigo?\n",
      "Insert text: tambem. que fazes?\n",
      "Answer: nada e tu?\n",
      "Insert text: nada\n",
      "Answer: queres ir passear?\n",
      "Insert text: nao\n",
      "Answer: ok adeus\n",
      "Insert text: bye\n"
     ]
    }
   ],
   "source": [
    "text= ''\n",
    "text=input(\"Insert text: \")\n",
    "i=0\n",
    "a=[\"olá\", \"sim e contigo?\", \"nada e tu?\", \"queres ir passear?\", \"ok adeus\"]\n",
    "while text != 'bye':\n",
    "    print(\"Answer: \"+a[i])\n",
    "    text=input(\"Insert text: \")\n",
    "    if i<4:\n",
    "                i+=1"
   ]
  },
  {
   "cell_type": "code",
   "execution_count": 2,
   "metadata": {},
   "outputs": [],
   "source": [
    "#EXEMPLO 2"
   ]
  },
  {
   "cell_type": "code",
   "execution_count": 2,
   "metadata": {},
   "outputs": [],
   "source": [
    "def chatboot():\n",
    "    text=''\n",
    "    i=0\n",
    "    a=[\"como estas?\", \"tambem\", \"ok...\", \"acho que vou dormir\", \"zzzz\"]\n",
    "    while text != 'bye':\n",
    "        text=input(\"insert text: \")\n",
    "        print(a[i])\n",
    "        if i<4:\n",
    "            i+=1"
   ]
  },
  {
   "cell_type": "code",
   "execution_count": 3,
   "metadata": {},
   "outputs": [
    {
     "name": "stdout",
     "output_type": "stream",
     "text": [
      "Hello!\n",
      "insert text: ola\n",
      "como estas?\n",
      "insert text: bem e tu?\n",
      "tambem\n",
      "insert text: hmmm\n",
      "ok...\n",
      "insert text: que queres fazer?\n",
      "acho que vou dormir\n",
      "insert text: ok..\n",
      "zzzz\n",
      "insert text: bye\n",
      "zzzz\n"
     ]
    }
   ],
   "source": [
    "greet()\n",
    "chatboot()"
   ]
  },
  {
   "cell_type": "code",
   "execution_count": null,
   "metadata": {},
   "outputs": [],
   "source": []
  },
  {
   "cell_type": "code",
   "execution_count": null,
   "metadata": {},
   "outputs": [],
   "source": []
  }
 ],
 "metadata": {
  "kernelspec": {
   "display_name": "Python 3",
   "language": "python",
   "name": "python3"
  },
  "language_info": {
   "codemirror_mode": {
    "name": "ipython",
    "version": 3
   },
   "file_extension": ".py",
   "mimetype": "text/x-python",
   "name": "python",
   "nbconvert_exporter": "python",
   "pygments_lexer": "ipython3",
   "version": "3.8.3"
  }
 },
 "nbformat": 4,
 "nbformat_minor": 4
}
